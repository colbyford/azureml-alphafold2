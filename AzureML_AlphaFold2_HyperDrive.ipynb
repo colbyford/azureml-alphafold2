{
 "cells": [
  {
   "cell_type": "markdown",
   "id": "602decb4",
   "metadata": {},
   "source": [
    "# Running AlphaFold2 (from ColabFold) using Azure Machine Learning\n",
    "### Colby T. Ford, Ph.D.\n",
    "----------------------------"
   ]
  },
  {
   "cell_type": "code",
   "execution_count": null,
   "id": "abbc58aa",
   "metadata": {},
   "outputs": [],
   "source": [
    "import numpy as np\n",
    "import pandas as pd\n",
    "from azureml.core import Workspace, Dataset\n",
    "\n",
    "ws = Workspace.from_config()"
   ]
  },
  {
   "cell_type": "markdown",
   "id": "973b0f0b",
   "metadata": {},
   "source": [
    "## Compute Target"
   ]
  },
  {
   "cell_type": "code",
   "execution_count": null,
   "id": "5a26febf",
   "metadata": {},
   "outputs": [],
   "source": [
    "from azureml.core.compute import ComputeTarget, AmlCompute\n",
    "from azureml.core.compute_target import ComputeTargetException\n",
    "\n",
    "cluster_name = \"alphafold2-ic\"\n",
    "\n",
    "try:\n",
    "    ## Check for existing compute target\n",
    "    training_cluster = ComputeTarget(workspace = ws, name = cluster_name)\n",
    "    print('Found existing cluster.')\n",
    "except ComputeTargetException:\n",
    "    ## If it doesn't already exist, create it\n",
    "    try:\n",
    "        compute_config = AmlCompute.provisioning_configuration(vm_size = 'STANDARD_NC6', max_nodes = 4)\n",
    "        training_cluster = ComputeTarget.create(ws, cluster_name, compute_config)\n",
    "        training_cluster.wait_for_completion(show_output=True)\n",
    "    except Exception as ex:\n",
    "        print(ex)"
   ]
  },
  {
   "cell_type": "markdown",
   "id": "4d775b81",
   "metadata": {},
   "source": [
    "## Configure HyperDrive"
   ]
  },
  {
   "cell_type": "code",
   "execution_count": null,
   "id": "38e022bc",
   "metadata": {},
   "outputs": [],
   "source": [
    "from azureml.core import Experiment, ScriptRunConfig, Environment\n",
    "from azureml.core.conda_dependencies import CondaDependencies\n",
    "from azureml.train.hyperdrive import GridParameterSampling, RandomParameterSampling, HyperDriveConfig, PrimaryMetricGoal, choice\n",
    "from azureml.widgets import RunDetails\n",
    "\n",
    "# Create a Python environment for the experiment\n",
    "alphafold2_env = Environment(\"alphafold2\")\n",
    "alphafold2_env.docker.base_image = \"cford38/alphafold2_aml:latest\"\n",
    "alphafold2_env.python.user_managed_dependencies = True\n",
    "\n",
    "## Create a script config\n",
    "script_config = ScriptRunConfig(source_directory = \".\",\n",
    "                                script='predict.py',\n",
    "                                arguments = ['--msa_mode', \"MMseqs2 (UniRef+Environmental)\",\n",
    "                                             '--num_models', 1,\n",
    "                                             '--num_recycles', 3,\n",
    "                                            '--stop_at_score', 90],\n",
    "                                environment = alphafold2_env,\n",
    "                                compute_target = training_cluster)\n",
    "\n",
    "## Sample a range of parameter values\n",
    "params = GridParameterSampling({ '--sequence_id': choice('alpha_b117_6xc2', 'beta_b1351_7vx1', 'delta_b1617_7v70', 'omicron_b11529_7t9j') })\n",
    "\n",
    "## Configure hyperdrive settings\n",
    "hyperdrive = HyperDriveConfig(run_config = script_config, \n",
    "                              hyperparameter_sampling = params, \n",
    "                              policy = None, \n",
    "                              primary_metric_name = 'complete', \n",
    "                              primary_metric_goal = PrimaryMetricGoal.MAXIMIZE, \n",
    "                              max_total_runs = 4,\n",
    "                              max_concurrent_runs = 3)"
   ]
  },
  {
   "cell_type": "markdown",
   "id": "a7f1aa26",
   "metadata": {},
   "source": [
    "## Define Prediction Script"
   ]
  },
  {
   "cell_type": "code",
   "execution_count": null,
   "id": "39781afe",
   "metadata": {},
   "outputs": [],
   "source": [
    "%%writefile predict.py\n",
    "## Import libraries\n",
    "import argparse, joblib, os, sys\n",
    "from azureml.core import Dataset, Run\n",
    "import pandas as pd\n",
    "import numpy as np\n",
    "\n",
    "from colabfold.batch import get_queries\n",
    "from colabfold.batch import run as foldrun\n",
    "from colabfold.download import default_data_dir\n",
    "from colabfold.utils import setup_logging\n",
    "from pathlib import Path\n",
    "from Bio import SeqIO\n",
    "\n",
    "os.makedirs('outputs', exist_ok=True)\n",
    "\n",
    "## Set the input parameters\n",
    "parser = argparse.ArgumentParser()\n",
    "parser.add_argument(\"--sequence_id\", type=str, dest='sequence_id', help='Input Sequence ID')\n",
    "parser.add_argument(\"--msa_mode\", type=str, dest='msa_mode', help='msa mode')\n",
    "parser.add_argument(\"--num_models\", type=int, dest='num_models', help='number of structures to predict')\n",
    "parser.add_argument(\"--num_recycles\", type=int, dest='num_recycles', help='number of recycles')\n",
    "parser.add_argument(\"--stop_at_score\", type=int, dest='stop_at_score', help='early stop after reaching this p1DDT score.')\n",
    "\n",
    "args = parser.parse_args()\n",
    "\n",
    "## Get the experiment run context\n",
    "run = Run.get_context()\n",
    "ws = run.experiment.workspace\n",
    "\n",
    "## Log run options\n",
    "run.log('sequence_id', str(filtering_method))\n",
    "run.log('msa_mode', str(msa_mode))\n",
    "run.log('num_models', str(num_models))\n",
    "run.log('num_recycles', str(num_recycles))\n",
    "run.log('stop_at_score', str(stop_at_score))\n",
    "\n",
    "## load the sequence(s)\n",
    "print(\"Loading sequences...\")\n",
    "\n",
    "for record in SeqIO.parse(\"./sequences.fasta\", \"fasta\"):\n",
    "    if sequence_id == record.description:\n",
    "        ## Write out the specific sequence fasta file for this node\n",
    "        SeqIO.write(record, open(\"./run_sequence.fasta\", \"w\"), \"fasta\")\n",
    "\n",
    "## Settings\n",
    "# msa_mode = \"MMseqs2 (UniRef+Environmental)\" #[\"MMseqs2 (UniRef+Environmental)\", \"MMseqs2 (UniRef only)\",\"single_sequence\",\"custom\"]\n",
    "# num_models = 1\n",
    "# num_recycles = 3\n",
    "# stop_at_score = 90\n",
    "sequence_id = args.sequence_id\n",
    "msa_mode = args.msa_mode\n",
    "num_models = args.num_models\n",
    "num_recycles = args.num_recycles\n",
    "stop_at_score = args.stop_at_score\n",
    "\n",
    "use_custom_msa = False\n",
    "use_amber = False\n",
    "use_templates = False \n",
    "do_not_overwrite_results = False\n",
    "zip_results = False\n",
    "\n",
    "## Output and Input directories\n",
    "result_dir = './outputs/predicted_structures/'\n",
    "input_dir = './run_sequence.fasta'\n",
    "\n",
    "## Set up Logging\n",
    "setup_logging(Path(result_dir).joinpath(\"log.txt\"))\n",
    "## Set up query tasks (1 per input sequence)\n",
    "queries, is_complex = get_queries(input_dir)\n",
    "\n",
    "## Run Fold Prediction\n",
    "foldrun(\n",
    "    queries=queries,\n",
    "    result_dir=result_dir,\n",
    "    use_templates=use_templates,\n",
    "    use_amber=use_amber,\n",
    "    msa_mode=msa_mode,\n",
    "    model_type=\"auto\",\n",
    "    num_models=num_models,\n",
    "    num_recycles=num_recycles,\n",
    "    model_order=[1],\n",
    "    is_complex=is_complex,\n",
    "    data_dir=default_data_dir,\n",
    "    keep_existing_results=do_not_overwrite_results,\n",
    "    rank_by=\"auto\",\n",
    "    pair_mode=\"unpaired+paired\",\n",
    "    stop_at_score=stop_at_score,\n",
    "    zip_results=zip_results,\n",
    ")\n",
    "\n",
    "run.log('complete', np.int(1))\n",
    "\n",
    "run.complete()"
   ]
  },
  {
   "cell_type": "markdown",
   "id": "5f8b541c",
   "metadata": {},
   "source": [
    "## Submit the HyperDrive Experiment"
   ]
  },
  {
   "cell_type": "code",
   "execution_count": null,
   "id": "09875e4e",
   "metadata": {},
   "outputs": [],
   "source": [
    "experiment = Experiment(workspace = ws, name = 'alphafold2_hyperdrive')\n",
    "run = experiment.submit(config = hyperdrive)"
   ]
  },
  {
   "cell_type": "code",
   "execution_count": null,
   "id": "7f837816",
   "metadata": {},
   "outputs": [],
   "source": [
    "## Show the status in the notebook as the experiment runs\n",
    "RunDetails(run).show()\n",
    "run.wait_for_completion()"
   ]
  }
 ],
 "metadata": {
  "kernelspec": {
   "display_name": "Python 3.8 - AzureML",
   "language": "python",
   "name": "python38-azureml"
  },
  "language_info": {
   "codemirror_mode": {
    "name": "ipython",
    "version": 3
   },
   "file_extension": ".py",
   "mimetype": "text/x-python",
   "name": "python",
   "nbconvert_exporter": "python",
   "pygments_lexer": "ipython3",
   "version": "3.8.1"
  }
 },
 "nbformat": 4,
 "nbformat_minor": 5
}
